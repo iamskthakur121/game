{
 "cells": [
  {
   "cell_type": "code",
   "execution_count": null,
   "id": "4c5e37a8",
   "metadata": {},
   "outputs": [],
   "source": [
    "import random\n",
    "choices = [\"Rock\", \"Paper\", \"Sec\"]\n",
    "player1 = random.choice(choices)\n",
    "\n",
    "player1= player1.lower()\n",
    "user=input(\"Enter your choice:\")\n",
    "if(player1==user):\n",
    "    print(\"draw\")\n",
    "\n",
    "elif player1==\"rock\":\n",
    "    if user ==\"scissors\":\n",
    "        print(\"player1 win\")\n",
    "    else:\n",
    "        print(\"user win\")\n",
    "        \n",
    "elif player1==\"sec\":\n",
    "    if user==\"paper\":\n",
    "        print(\"player1 win\")\n",
    "    else:\n",
    "        print(\"user win\")\n",
    "        \n",
    "elif player1==\"paper\":\n",
    "    if user==\"rock\":\n",
    "        print(\"player1 win\")\n",
    "    else:\n",
    "        print(\"user win\")\n",
    "        \n",
    "    \n",
    "        "
   ]
  },
  {
   "cell_type": "code",
   "execution_count": null,
   "id": "6112b3ab",
   "metadata": {},
   "outputs": [],
   "source": []
  },
  {
   "cell_type": "code",
   "execution_count": null,
   "id": "04e8d5cf",
   "metadata": {},
   "outputs": [],
   "source": []
  },
  {
   "cell_type": "code",
   "execution_count": 7,
   "id": "481bf7a0",
   "metadata": {},
   "outputs": [
    {
     "name": "stdout",
     "output_type": "stream",
     "text": [
      "rock\n"
     ]
    }
   ],
   "source": [
    "\n"
   ]
  },
  {
   "cell_type": "code",
   "execution_count": 8,
   "id": "a860d2e4",
   "metadata": {},
   "outputs": [
    {
     "name": "stdout",
     "output_type": "stream",
     "text": [
      "rock\n"
     ]
    }
   ],
   "source": []
  },
  {
   "cell_type": "code",
   "execution_count": 9,
   "id": "a55b582b",
   "metadata": {},
   "outputs": [
    {
     "name": "stdout",
     "output_type": "stream",
     "text": [
      "rock\n"
     ]
    }
   ],
   "source": []
  },
  {
   "cell_type": "code",
   "execution_count": null,
   "id": "d4093b44",
   "metadata": {},
   "outputs": [],
   "source": []
  }
 ],
 "metadata": {
  "kernelspec": {
   "display_name": "Python 3 (ipykernel)",
   "language": "python",
   "name": "python3"
  },
  "language_info": {
   "codemirror_mode": {
    "name": "ipython",
    "version": 3
   },
   "file_extension": ".py",
   "mimetype": "text/x-python",
   "name": "python",
   "nbconvert_exporter": "python",
   "pygments_lexer": "ipython3",
   "version": "3.11.5"
  }
 },
 "nbformat": 4,
 "nbformat_minor": 5
}
